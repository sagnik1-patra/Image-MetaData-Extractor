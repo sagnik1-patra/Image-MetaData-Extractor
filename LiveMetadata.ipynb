{
 "cells": [
  {
   "cell_type": "code",
   "execution_count": 4,
   "id": "a7a8a080-711a-408b-96cc-840caaeec4c4",
   "metadata": {},
   "outputs": [
    {
     "name": "stdin",
     "output_type": "stream",
     "text": [
      "📂 Enter full path of image or folder:  C:\\Users\\sagni\\Downloads\\Image Metadata Extractor\\Images\\airplane\n"
     ]
    },
    {
     "name": "stdout",
     "output_type": "stream",
     "text": [
      "\n",
      "📸 Extracted Metadata:\n",
      "{'filename': '1200px-DSC_4623_(48105257002).jpg', 'format': 'JPEG', 'mode': 'RGB', 'size': (1200, 800)}\n",
      "{'filename': '1200px-N360PZ_(40499790530).jpg', 'format': 'JPEG', 'mode': 'RGB', 'size': (1200, 533)}\n",
      "{'filename': 'Boeing_737-33A_Fischer_Air_AN0989291.jpg', 'format': 'JPEG', 'mode': 'RGB', 'size': (1200, 800)}\n",
      "{'filename': 'HP.81_Hermes_4_G-ALDT_Air_Safaris_Ringway_12.08.61_edited-3.jpg', 'format': 'JPEG', 'mode': 'RGB', 'size': (1014, 546)}\n",
      "{'filename': 'Huff-Daland_Duster.JPG', 'format': 'JPEG', 'mode': 'RGB', 'size': (1200, 791)}\n",
      "{'filename': 'RG-7_Soim_(1958).jpg', 'format': 'JPEG', 'mode': 'RGB', 'size': (1055, 527)}\n",
      "{'filename': 'Royal_International_Air_Tattoo.jpg', 'format': 'JPEG', 'mode': 'RGB', 'size': (1200, 800)}\n"
     ]
    }
   ],
   "source": [
    "import os\n",
    "from PIL import Image\n",
    "\n",
    "def extract_metadata(image_path):\n",
    "    metadata_list = []\n",
    "\n",
    "    # If input is a single image file\n",
    "    if os.path.isfile(image_path) and image_path.lower().endswith(('.png', '.jpg', '.jpeg', '.bmp', '.gif', '.tiff')):\n",
    "        try:\n",
    "            with Image.open(image_path) as img:\n",
    "                metadata = {\n",
    "                    'filename': os.path.basename(image_path),\n",
    "                    'format': img.format,\n",
    "                    'mode': img.mode,\n",
    "                    'size': img.size,\n",
    "                }\n",
    "                metadata_list.append(metadata)\n",
    "        except Exception as e:\n",
    "            print(f\"Error reading {image_path}: {e}\")\n",
    "\n",
    "    # If input is a directory\n",
    "    elif os.path.isdir(image_path):\n",
    "        for filename in os.listdir(image_path):\n",
    "            if filename.lower().endswith(('.png', '.jpg', '.jpeg', '.bmp', '.gif', '.tiff')):\n",
    "                full_path = os.path.join(image_path, filename)\n",
    "                try:\n",
    "                    with Image.open(full_path) as img:\n",
    "                        metadata = {\n",
    "                            'filename': filename,\n",
    "                            'format': img.format,\n",
    "                            'mode': img.mode,\n",
    "                            'size': img.size,\n",
    "                        }\n",
    "                        metadata_list.append(metadata)\n",
    "                except Exception as e:\n",
    "                    print(f\"Error reading {filename}: {e}\")\n",
    "    else:\n",
    "        print(\"❌ Invalid path or file type.\")\n",
    "\n",
    "    return metadata_list\n",
    "\n",
    "\n",
    "# === User input ===\n",
    "user_input = input(\"📂 Enter full path of image or folder: \").strip()\n",
    "\n",
    "# === Extract metadata ===\n",
    "result = extract_metadata(user_input)\n",
    "\n",
    "# === Display output ===\n",
    "if result:\n",
    "    print(\"\\n📸 Extracted Metadata:\")\n",
    "    for meta in result:\n",
    "        print(meta)\n",
    "else:\n",
    "    print(\"No valid image metadata extracted.\")\n"
   ]
  },
  {
   "cell_type": "code",
   "execution_count": null,
   "id": "3458acf4-b712-45ed-b643-d06ec8579fa9",
   "metadata": {},
   "outputs": [],
   "source": []
  }
 ],
 "metadata": {
  "kernelspec": {
   "display_name": "Python 3.11 (moviepy)",
   "language": "python",
   "name": "py311"
  },
  "language_info": {
   "codemirror_mode": {
    "name": "ipython",
    "version": 3
   },
   "file_extension": ".py",
   "mimetype": "text/x-python",
   "name": "python",
   "nbconvert_exporter": "python",
   "pygments_lexer": "ipython3",
   "version": "3.11.9"
  }
 },
 "nbformat": 4,
 "nbformat_minor": 5
}
